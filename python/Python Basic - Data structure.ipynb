{
 "cells": [
  {
   "cell_type": "code",
   "execution_count": 17,
   "metadata": {},
   "outputs": [
    {
     "data": {
      "text/plain": [
       "'physics'"
      ]
     },
     "execution_count": 17,
     "metadata": {},
     "output_type": "execute_result"
    }
   ],
   "source": [
    "# Data structure in python\n",
    "\n",
    "# The most commonly used compound data structures in Python are lists, tuples, sets, and dictionaries.\n",
    "\n",
    "# Python implements lists as arrays. They have linear search time, which makes them impractical for storing large amounts of searchable data.\n",
    "lst = [3,4,4,5,5,5,6,7]\n",
    "\n",
    "tup1 = ('physics', 'chemistry', 1997, 2000);\n",
    "\n",
    "tup1[0]"
   ]
  },
  {
   "cell_type": "code",
   "execution_count": 18,
   "metadata": {},
   "outputs": [
    {
     "name": "stdout",
     "output_type": "stream",
     "text": [
      "mylist: [3, 4, 5, 6, 7]\n"
     ]
    },
    {
     "data": {
      "text/plain": [
       "False"
      ]
     },
     "execution_count": 18,
     "metadata": {},
     "output_type": "execute_result"
    }
   ],
   "source": [
    "# Tuples are immutable lists. Once created, they cannot be changed. They still have linear search time.\n",
    "\n",
    "# Unlike lists and tuples, sets are not sequences: set items don’t have indexes. Sets can store at most \n",
    "# one copy of an item and have sublinear O(log(N)) search time. They are excellent for membership look-ups \n",
    "# and eliminating duplicates (if you convert a list with duplicates to a set, the duplicates are gone):\n",
    "\n",
    "\n",
    "# Remove duplicates from myList\n",
    "myList = list(set(lst)) \n",
    "print('mylist: ' + str(myList))\n",
    "#========================================\n",
    "# You can transform list data to a set for faster membership look-ups. For example, let’s say bigList is a list \n",
    "# of the first 10 million integer numbers represented as decimal strings:\n",
    "\n",
    "bigList = [str(i) for i in range(10000000)]\n",
    "\n",
    "\"abc\" in bigList # Takes 0.2 sec\n",
    "\n",
    "bigSet = set(bigList)\n",
    "\"abc\" in bigSet # Takes 15–30 μsec—10000 times faster!"
   ]
  },
  {
   "cell_type": "code",
   "execution_count": 24,
   "metadata": {},
   "outputs": [
    {
     "name": "stdout",
     "output_type": "stream",
     "text": [
      "{'Toronto': 'Ontario', 'London': 'Ontario', 'Montreal': 'Qubec'}\n"
     ]
    }
   ],
   "source": [
    "# Dictionaries map keys to values. An object of any hashable data type (number, Boolean, string, tuple) \n",
    "# can be a key, and different keys in the same dictionary can belong to different data types. There is \n",
    "# no restriction on the data types of dictionary values. Dictionaries have sublinear O(log(N)) search \n",
    "# time. They are excellent for key-value look-ups.\n",
    "\n",
    "#You can create a dictionary from a list of (key, value) tuples, and you can use a built-in class constructor \n",
    "# enumerate(seq) to create a dictionary where the key is the sequence number of an item in seq:\n",
    "seq = [\"alpha\", \"bravo\", \"charlie\", \"delta\"]\n",
    "dict(enumerate(seq))\n",
    "\n",
    "dc = {\"Toronto\" : \"Ontario\", \"London\" : \"Ontario\", \"Montreal\" : \"Qubec\", \"London\" : \"Ontario\"}\n",
    "print(dc)\n"
   ]
  },
  {
   "cell_type": "code",
   "execution_count": null,
   "metadata": {},
   "outputs": [],
   "source": []
  }
 ],
 "metadata": {
  "kernelspec": {
   "display_name": "Python 2",
   "language": "python",
   "name": "python2"
  },
  "language_info": {
   "codemirror_mode": {
    "name": "ipython",
    "version": 2
   },
   "file_extension": ".py",
   "mimetype": "text/x-python",
   "name": "python",
   "nbconvert_exporter": "python",
   "pygments_lexer": "ipython2",
   "version": "2.7.14"
  }
 },
 "nbformat": 4,
 "nbformat_minor": 2
}
