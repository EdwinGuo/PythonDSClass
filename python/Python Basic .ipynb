{
 "cells": [
  {
   "cell_type": "code",
   "execution_count": 1,
   "metadata": {},
   "outputs": [],
   "source": [
    "#The following list shows the Python keywords. These are reserved words and you cannot use them as constant \n",
    "# or variable or any other identifier names. All the Python keywords contain lowercase letters only.\n",
    "\n",
    "# and -> exec -> not -> assert -> finally -> or -> break -> for -> pass -> class -> from -> print\n",
    "# continue -> global -> raise -> def -> if -> return -> del -> import -> try -> elif -> in -> while \n",
    "# else -> is -> with -> except -> lambda -> yield"
   ]
  },
  {
   "cell_type": "code",
   "execution_count": 4,
   "metadata": {},
   "outputs": [
    {
     "name": "stdout",
     "output_type": "stream",
     "text": [
      "True\n",
      "True\n"
     ]
    }
   ],
   "source": [
    "# Lines and Indentation\n",
    "# Python provides no braces to indicate blocks of code for class and function definitions or flow control. \n",
    "# Blocks of code are denoted by line indentation, which is rigidly enforced.\n",
    "\n",
    "# The number of spaces in the indentation is variable, but all statements within the block must be indented \n",
    "# the same amount. For example −\n",
    "\n",
    "if True:\n",
    " print \"True\"\n",
    "else:\n",
    " print \"False\"\n",
    "\n",
    "\n",
    "# or \n",
    "if True:\n",
    "    print \"True\"\n",
    "else:\n",
    "    print \"False\""
   ]
  },
  {
   "cell_type": "code",
   "execution_count": 7,
   "metadata": {},
   "outputs": [
    {
     "name": "stdout",
     "output_type": "stream",
     "text": [
      "total: item_oneitem_twoitem_three\n"
     ]
    }
   ],
   "source": [
    "# Multi-Line Statements\n",
    "# Statements in Python typically end with a new line. Python does, however, allow the use of the line continuation\n",
    "# character (\\) to denote that the line should continue. For example −\n",
    "item_one = 'item_one'\n",
    "item_two = 'item_two'\n",
    "item_three = 'item_three'\n",
    "total = item_one + \\\n",
    "        item_two + \\\n",
    "        item_three\n",
    "\n",
    "print('total: ' + total)\n",
    "#Statements contained within the [], {}, or () brackets do not need to use the line continuation character. For example −\n",
    "\n",
    "days = ['Monday', 'Tuesday', 'Wednesday',\n",
    "        'Thursday', 'Friday']\n",
    "\n",
    "#Quotation in Python\n",
    "#Python accepts single ('), double (\") and triple (''' or \"\"\") quotes to denote string literals, as long as the same\n",
    "# type of quote starts and ends the string.\n",
    "\n",
    "# The triple quotes are used to span the string across multiple lines. For example, all the following are legal −\n",
    "\n",
    "word = 'word'\n",
    "sentence = \"This is a sentence.\"\n",
    "paragraph = \"\"\"This is a paragraph. It is\n",
    "made up of multiple lines and sentences.\"\"\""
   ]
  },
  {
   "cell_type": "code",
   "execution_count": 8,
   "metadata": {},
   "outputs": [],
   "source": [
    "# Comments\n",
    "# It's a good practice to have comments on your functions\n",
    "# A hash sign (#) that is not inside a string literal begins a \n",
    "# comment. All characters after the # and up to the end of the \n",
    "# physical line are part of the comment and the Python interpreter \n",
    "# ignores them."
   ]
  },
  {
   "cell_type": "code",
   "execution_count": 9,
   "metadata": {},
   "outputs": [
    {
     "name": "stdout",
     "output_type": "stream",
     "text": [
      "foo\n"
     ]
    }
   ],
   "source": [
    "# Multiple Statements on a Single Line\n",
    "# The semicolon ( ; ) allows multiple statements on the single line \n",
    "# given that neither statement starts a new code block. Here is a \n",
    "# sample snip using the semicolon −\n",
    "\n",
    "import sys; x = 'foo'; sys.stdout.write(x + '\\n')"
   ]
  },
  {
   "cell_type": "code",
   "execution_count": 10,
   "metadata": {},
   "outputs": [
    {
     "name": "stdout",
     "output_type": "stream",
     "text": [
      "100\n",
      "1000.0\n",
      "John\n"
     ]
    }
   ],
   "source": [
    "# Assigning Values to Variables\n",
    "# Python variables do not need explicit declaration to reserve \n",
    "# memory space. The declaration happens automatically when you \n",
    "# assign a value to a variable. The equal sign (=) is used to \n",
    "# assign values to variables.\n",
    "\n",
    "# The operand to the left of the = operator is the name of the \n",
    "# variable and the operand to the right of the = operator is the \n",
    "# value stored in the variable. For example −\n",
    "\n",
    "\n",
    "counter = 100          # An integer assignment\n",
    "miles   = 1000.0       # A floating point\n",
    "name    = \"John\"       # A string\n",
    "\n",
    "print counter\n",
    "print miles\n",
    "print name"
   ]
  },
  {
   "cell_type": "code",
   "execution_count": 29,
   "metadata": {},
   "outputs": [
    {
     "name": "stdout",
     "output_type": "stream",
     "text": [
      "Convert String to Int<type 'int'>\n",
      "Convert String to Long<type 'long'>\n",
      "Convert int to Long<type 'long'>\n",
      "Convert string to Float<type 'float'>\n",
      "Convert float to string<type 'str'>\n"
     ]
    },
    {
     "data": {
      "text/plain": [
       "[3, 4, 5, 6, 7]"
      ]
     },
     "execution_count": 29,
     "metadata": {},
     "output_type": "execute_result"
    }
   ],
   "source": [
    "# Multiple Assignment\n",
    "# Python allows you to assign a single value to several variables \n",
    "# simultaneously. For example −\n",
    "\n",
    "a = b = c = 1\n",
    "\n",
    "#Data Type Conversion\n",
    "# Sometimes, you may need to perform conversions between the \n",
    "# built-in types. To convert between types, you simply use the type\n",
    "# name as a function.\n",
    "\n",
    "# There are several built-in functions to perform conversion from \n",
    "# one data type to another. These functions return a new object \n",
    "# representing the converted value.\n",
    "\n",
    "# Converts x to an integer. base specifies the base if x is a string.\n",
    "value = \"1\"\n",
    "lst = [3, 4, 5, 5, 5, 6, 6, 7, 7, 7]\n",
    "\n",
    "v1 = int(value)\n",
    "print('Convert String to Int' + str(type(v1)))\n",
    " \n",
    "v2 = long(value)\n",
    "print('Convert String to Long' + str(type(v2)))\n",
    "print('Convert int to Long' + str(type(long(v1))))\n",
    "\n",
    "v3 = float(value)\n",
    "print('Convert string to Float' + str(type(v3)))\n",
    "\n",
    "v4 = str(v3)\n",
    "print('Convert float to string' + str(type(v4)))\n",
    "\n",
    "\n",
    "\n",
    "# Converts to a set.\n",
    "set(lst)\n",
    "\n",
    "list(set(lst))\n"
   ]
  },
  {
   "cell_type": "code",
   "execution_count": 34,
   "metadata": {},
   "outputs": [
    {
     "name": "stdout",
     "output_type": "stream",
     "text": [
      "a: 6\n",
      "a: 5\n",
      "a: 10\n",
      "a: 5\n",
      "a: 2\n",
      "a: 4\n"
     ]
    }
   ],
   "source": [
    "#Operator\n",
    "\n",
    "1 == 1\n",
    "1 != 1\n",
    "1 > 2\n",
    "2 < 1\n",
    "1 >= 1\n",
    "2 <= 2\n",
    "\n",
    "a = 5\n",
    "a +=1\n",
    "print(\"a: \" + str(a))\n",
    "\n",
    "a -=1\n",
    "print(\"a: \" + str(a))\n",
    "\n",
    "a *= 2\n",
    "print(\"a: \" + str(a))\n",
    "\n",
    "a /= 2 \n",
    "print(\"a: \" + str(a))\n",
    "\n",
    "a %= 3 \n",
    "print(\"a: \" + str(a))\n",
    "\n",
    "a **= 2 \n",
    "print(\"a: \" + str(a))"
   ]
  },
  {
   "cell_type": "code",
   "execution_count": 36,
   "metadata": {},
   "outputs": [
    {
     "data": {
      "text/plain": [
       "True"
      ]
     },
     "execution_count": 36,
     "metadata": {},
     "output_type": "execute_result"
    }
   ],
   "source": [
    "# Python Membership Operators\n",
    "\n",
    "5 in [3,4,5]"
   ]
  },
  {
   "cell_type": "code",
   "execution_count": null,
   "metadata": {},
   "outputs": [],
   "source": []
  }
 ],
 "metadata": {
  "kernelspec": {
   "display_name": "Python 2",
   "language": "python",
   "name": "python2"
  },
  "language_info": {
   "codemirror_mode": {
    "name": "ipython",
    "version": 2
   },
   "file_extension": ".py",
   "mimetype": "text/x-python",
   "name": "python",
   "nbconvert_exporter": "python",
   "pygments_lexer": "ipython2",
   "version": "2.7.14"
  }
 },
 "nbformat": 4,
 "nbformat_minor": 2
}
