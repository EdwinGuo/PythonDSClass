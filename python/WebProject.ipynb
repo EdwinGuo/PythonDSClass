{
 "cells": [
  {
   "cell_type": "code",
   "execution_count": 1,
   "metadata": {},
   "outputs": [],
   "source": [
    "#requirement \n",
    "\n",
    "# Processing & Analytical goals:\n",
    "\n",
    "# Sessionize the web log by IP. Sessionize = aggregrate all page hits by visitor/IP during a session. https://en.wikipedia.org/wiki/Session_(web_analytics)\n",
    "\n",
    "# Determine the average session time\n",
    "\n",
    "# Determine unique URL visits per session. To clarify, count a hit to a unique URL only once per session.\n",
    "\n",
    "# Find the most engaged users, ie the Is with the longest session times\n",
    "\n",
    "\n",
    "# Tips:\n",
    "# How to hook jupyter to pyspark: https://blog.sicara.com/get-started-pyspark-jupyter-guide-tutorial-ae2fe84f594f\n",
    "# For this dataset, complete the sessionization by time window, determine the best session window time on your \n",
    "# own, or start with 15 minutes.\n",
    "# The log file was taken from an AWS Elastic Load Balancer: \n",
    "# http://docs.aws.amazon.com/ElasticLoadBalancing/latest/DeveloperGuide/access-log-collection.html#access-log-entry-format\n"
   ]
  },
  {
   "cell_type": "code",
   "execution_count": 2,
   "metadata": {},
   "outputs": [],
   "source": [
    "# Read data from local file system\n",
    "data = spark.sparkContext.textFile(\"/Users/edwinguo/edwin/PythonDSClass/project/shoppingwebsampe.log\")"
   ]
  },
  {
   "cell_type": "code",
   "execution_count": 4,
   "metadata": {},
   "outputs": [
    {
     "data": {
      "text/plain": [
       "u'2015-07-22T09:00:28.019143Z marketpalce-shop 123.242.248.130:54635 10.0.6.158:80 0.000022 0.026109 0.00002 200 200 0 699 \"GET https://democlass.com:443/shop/authresponse?code=f2405b05-e2ee-4b0d-8f6a-9fed0fcfe2e0&state=null HTTP/1.1\" \"Mozilla/5.0 (Windows NT 6.1; WOW64) AppleWebKit/537.36 (KHTML, like Gecko) Chrome/43.0.2357.130 Safari/537.36\" ECDHE-RSA-AES128-GCM-SHA256 TLSv1.2'"
      ]
     },
     "execution_count": 4,
     "metadata": {},
     "output_type": "execute_result"
    }
   ],
   "source": [
    "# To have a quick peek of the data\n",
    "data.first()"
   ]
  },
  {
   "cell_type": "code",
   "execution_count": 25,
   "metadata": {},
   "outputs": [
    {
     "data": {
      "text/plain": [
       "[u'2015-07-22T09:00:28.019143Z',\n",
       " u'123.242.248.130:54635',\n",
       " u'https://democlass.com:443/shop/authresponse?code=f2405b05-e2ee-4b0d-8f6a-9fed0fcfe2e0&state=null']"
      ]
     },
     "execution_count": 25,
     "metadata": {},
     "output_type": "execute_result"
    }
   ],
   "source": [
    "# pick the most important and related fileds for the analytics job\n",
    "def pickFields(arr):\n",
    "    parts = arr[0].split(\" \")\n",
    "    return [parts[0], parts[2], parts[12]]\n",
    "\n",
    "data.map(lambda x: pickFields(x.split(\"\\\" \"))).first()"
   ]
  },
  {
   "cell_type": "code",
   "execution_count": 64,
   "metadata": {},
   "outputs": [],
   "source": [
    "# since we need to sort and do match calculation on the timestamp, the best way is to convert the ts to epoch timestamp\n",
    "import time\n",
    "from calendar import timegm\n",
    "\n",
    "ts_fmt = \"%Y-%m-%dT%H:%M:%S.%fZ\"\n",
    "\n",
    "def convertToEpoch(time_str):\n",
    "    utc_time = time.strptime(time_str, ts_fmt)\n",
    "    return timegm(utc_time)"
   ]
  },
  {
   "cell_type": "code",
   "execution_count": 69,
   "metadata": {},
   "outputs": [
    {
     "data": {
      "text/plain": [
       "(u'123.242.248.130',\n",
       " (1437555628,\n",
       "  u'https://democlass.com:443/shop/authresponse?code=f2405b05-e2ee-4b0d-8f6a-9fed0fcfe2e0&state=null'))"
      ]
     },
     "execution_count": 69,
     "metadata": {},
     "output_type": "execute_result"
    }
   ],
   "source": [
    "# now let's revist pickFields\n",
    "def pickFields(arr):\n",
    "    parts = arr[0].split(\" \")\n",
    "    # we only care about the cient ip to identify each session, not the port\n",
    "    return (parts[2].split(\":\")[0], (convertToEpoch(parts[0]), parts[12]))\n",
    "\n",
    "stage1 = data.map(lambda x: pickFields(x.split(\"\\\" \")))\n",
    "stage1.first()"
   ]
  },
  {
   "cell_type": "code",
   "execution_count": 70,
   "metadata": {},
   "outputs": [],
   "source": [
    "stage2 = stage1.groupByKey()"
   ]
  },
  {
   "cell_type": "code",
   "execution_count": 71,
   "metadata": {},
   "outputs": [],
   "source": [
    "rec = stage2.first()"
   ]
  },
  {
   "cell_type": "code",
   "execution_count": 72,
   "metadata": {},
   "outputs": [
    {
     "data": {
      "text/plain": [
       "[(1437541812, u'https://democlass.com:443/democlasscash'),\n",
       " (1437541842, u'https://democlass.com:443/democlasscash'),\n",
       " (1437541843, u'https://democlass.com:443/checkout'),\n",
       " (1437541847, u'https://democlass.com:443/checkout'),\n",
       " (1437541853, u'https://democlass.com:443/summary/1115382319'),\n",
       " (1437541865, u'https://democlass.com:443/summary/1115382319?count=5'),\n",
       " (1437541866, u'https://democlass.com:443/styles/app.css'),\n",
       " (1437541889, u'https://democlass.com:443/summary/1115382319?count=4'),\n",
       " (1437541891, u'https://democlass.com:443/styles/app.css'),\n",
       " (1437541904, u'https://democlass.com:443/summary/1115382319?count=3'),\n",
       " (1437541905, u'https://democlass.com:443/styles/app.css'),\n",
       " (1437541918, u'https://democlass.com:443/summary/1115382319?count=2'),\n",
       " (1437541919, u'https://democlass.com:443/styles/app.css'),\n",
       " (1437541931, u'https://democlass.com:443/summary/1115382319?count=1'),\n",
       " (1437541933, u'https://democlass.com:443/styles/app.css'),\n",
       " (1437541939, u'https://democlass.com:443/settings'),\n",
       " (1437541974, u'https://democlass.com:443/logout'),\n",
       " (1437541974, u'https://democlass.com:443/'),\n",
       " (1437541980, u'https://democlass.com:443/settings'),\n",
       " (1437541984, u'https://democlass.com:443/login'),\n",
       " (1437541987, u'https://democlass.com:443/login')]"
      ]
     },
     "execution_count": 72,
     "metadata": {},
     "output_type": "execute_result"
    }
   ],
   "source": [
    "# Now let's take a look at the data after group\n",
    "list(rec[1])"
   ]
  },
  {
   "cell_type": "code",
   "execution_count": 78,
   "metadata": {},
   "outputs": [],
   "source": [
    "# Cool, the above output looks pretty decent at this point. Now the next thing we\n",
    "# need to do it to sort the collection base on the timestamp in a accending order.\n",
    "def sortTup(tup):\n",
    "    tempTup = list(tup)\n",
    "    tempTup.sort(key=lambda tup: tup[0])\n",
    "    return tempTup\n",
    "\n",
    "stage3 = stage2.mapValues(lambda x : sortTup(x))"
   ]
  },
  {
   "cell_type": "code",
   "execution_count": 79,
   "metadata": {},
   "outputs": [
    {
     "data": {
      "text/plain": [
       "(u'106.76.166.196',\n",
       " [(1437541812, u'https://democlass.com:443/democlasscash'),\n",
       "  (1437541842, u'https://democlass.com:443/democlasscash'),\n",
       "  (1437541843, u'https://democlass.com:443/checkout'),\n",
       "  (1437541847, u'https://democlass.com:443/checkout'),\n",
       "  (1437541853, u'https://democlass.com:443/summary/1115382319'),\n",
       "  (1437541865, u'https://democlass.com:443/summary/1115382319?count=5'),\n",
       "  (1437541866, u'https://democlass.com:443/styles/app.css'),\n",
       "  (1437541889, u'https://democlass.com:443/summary/1115382319?count=4'),\n",
       "  (1437541891, u'https://democlass.com:443/styles/app.css'),\n",
       "  (1437541904, u'https://democlass.com:443/summary/1115382319?count=3'),\n",
       "  (1437541905, u'https://democlass.com:443/styles/app.css'),\n",
       "  (1437541918, u'https://democlass.com:443/summary/1115382319?count=2'),\n",
       "  (1437541919, u'https://democlass.com:443/styles/app.css'),\n",
       "  (1437541931, u'https://democlass.com:443/summary/1115382319?count=1'),\n",
       "  (1437541933, u'https://democlass.com:443/styles/app.css'),\n",
       "  (1437541939, u'https://democlass.com:443/settings'),\n",
       "  (1437541974, u'https://democlass.com:443/logout'),\n",
       "  (1437541974, u'https://democlass.com:443/'),\n",
       "  (1437541980, u'https://democlass.com:443/settings'),\n",
       "  (1437541984, u'https://democlass.com:443/login'),\n",
       "  (1437541987, u'https://democlass.com:443/login')])"
      ]
     },
     "execution_count": 79,
     "metadata": {},
     "output_type": "execute_result"
    }
   ],
   "source": [
    "# Now the sequence within each collection is sorted\n",
    "stage3.first()"
   ]
  },
  {
   "cell_type": "code",
   "execution_count": 96,
   "metadata": {},
   "outputs": [],
   "source": [
    "# let's use a session time as 15 minutes \n",
    "sessionTime = 900"
   ]
  },
  {
   "cell_type": "code",
   "execution_count": 81,
   "metadata": {},
   "outputs": [],
   "source": [
    "# At this stage, we need to start to put the above info into the bucket it belongs to\n",
    "\n",
    "#    |________|________|________|________|........\n",
    "# start  15 min   30 min     45 min  60 min ....."
   ]
  },
  {
   "cell_type": "code",
   "execution_count": 111,
   "metadata": {},
   "outputs": [],
   "source": [
    "def bucketData(datas, sessionWindow):\n",
    "    result = []\n",
    "    # temp for each iteration\n",
    "    temp = []\n",
    "    startTime = 0\n",
    "    \n",
    "    for data in datas:\n",
    "        if (startTime == 0):\n",
    "            startTime = data[0]\n",
    "            temp.append(data)\n",
    "        # if the current time minue the current starttime\n",
    "        # is less then sessionWindow, then add to the temp\n",
    "        elif (data[0] - startTime <= sessionWindow):\n",
    "            temp.append(data)\n",
    "        else:\n",
    "            # first put the temp into the result\n",
    "            result.append(temp)\n",
    "            # clear the state of temp and startTime\n",
    "            temp = [data]\n",
    "            startTime = 0\n",
    "    \n",
    "    if len(temp) != 0:\n",
    "        result.append(temp)\n",
    "            \n",
    "    return result"
   ]
  },
  {
   "cell_type": "code",
   "execution_count": 112,
   "metadata": {},
   "outputs": [
    {
     "data": {
      "text/plain": [
       "[[(1437541812, u'https://democlass.com:443/democlasscash'),\n",
       "  (1437541842, u'https://democlass.com:443/democlasscash'),\n",
       "  (1437541843, u'https://democlass.com:443/checkout'),\n",
       "  (1437541847, u'https://democlass.com:443/checkout'),\n",
       "  (1437541853, u'https://democlass.com:443/summary/1115382319'),\n",
       "  (1437541865, u'https://democlass.com:443/summary/1115382319?count=5'),\n",
       "  (1437541866, u'https://democlass.com:443/styles/app.css'),\n",
       "  (1437541889, u'https://democlass.com:443/summary/1115382319?count=4'),\n",
       "  (1437541891, u'https://democlass.com:443/styles/app.css'),\n",
       "  (1437541904, u'https://democlass.com:443/summary/1115382319?count=3'),\n",
       "  (1437541905, u'https://democlass.com:443/styles/app.css'),\n",
       "  (1437541918, u'https://democlass.com:443/summary/1115382319?count=2'),\n",
       "  (1437541919, u'https://democlass.com:443/styles/app.css'),\n",
       "  (1437541931, u'https://democlass.com:443/summary/1115382319?count=1'),\n",
       "  (1437541933, u'https://democlass.com:443/styles/app.css'),\n",
       "  (1437541939, u'https://democlass.com:443/settings'),\n",
       "  (1437541974, u'https://democlass.com:443/logout'),\n",
       "  (1437541974, u'https://democlass.com:443/'),\n",
       "  (1437541980, u'https://democlass.com:443/settings'),\n",
       "  (1437541984, u'https://democlass.com:443/login'),\n",
       "  (1437541987, u'https://democlass.com:443/login')]]"
      ]
     },
     "execution_count": 112,
     "metadata": {},
     "output_type": "execute_result"
    }
   ],
   "source": [
    "bucketData(stage3.first()[1], sessionTime)"
   ]
  },
  {
   "cell_type": "code",
   "execution_count": 118,
   "metadata": {},
   "outputs": [
    {
     "data": {
      "text/plain": [
       "[[(1437541812, u'https://democlass.com:443/democlasscash'),\n",
       "  (1437541842, u'https://democlass.com:443/democlasscash'),\n",
       "  (1437541843, u'https://democlass.com:443/checkout'),\n",
       "  (1437541847, u'https://democlass.com:443/checkout'),\n",
       "  (1437541853, u'https://democlass.com:443/summary/1115382319'),\n",
       "  (1437541865, u'https://democlass.com:443/summary/1115382319?count=5'),\n",
       "  (1437541866, u'https://democlass.com:443/styles/app.css'),\n",
       "  (1437541889, u'https://democlass.com:443/summary/1115382319?count=4')],\n",
       " [(1437545891, u'https://democlass.com:443/styles/app.css'),\n",
       "  (1437545904, u'https://democlass.com:443/summary/1115382319?count=3'),\n",
       "  (1437545905, u'https://democlass.com:443/styles/app.css'),\n",
       "  (1437545918, u'https://democlass.com:443/summary/1115382319?count=2'),\n",
       "  (1437545919, u'https://democlass.com:443/styles/app.css'),\n",
       "  (1437545931, u'https://democlass.com:443/summary/1115382319?count=1'),\n",
       "  (1437545933, u'https://democlass.com:443/styles/app.css'),\n",
       "  (1437545939, u'https://democlass.com:443/settings'),\n",
       "  (1437545974, u'https://democlass.com:443/logout'),\n",
       "  (1437545974, u'https://democlass.com:443/'),\n",
       "  (1437545980, u'https://democlass.com:443/settings'),\n",
       "  (1437545984, u'https://democlass.com:443/login'),\n",
       "  (1437545987, u'https://democlass.com:443/login')]]"
      ]
     },
     "execution_count": 118,
     "metadata": {},
     "output_type": "execute_result"
    }
   ],
   "source": [
    "# Test Case\n",
    "testdata2 = [(1437541812, u'https://democlass.com:443/democlasscash'),\n",
    " (1437541842, u'https://democlass.com:443/democlasscash'),\n",
    " (1437541843, u'https://democlass.com:443/checkout'),\n",
    " (1437541847, u'https://democlass.com:443/checkout'),\n",
    " (1437541853, u'https://democlass.com:443/summary/1115382319'),\n",
    " (1437541865, u'https://democlass.com:443/summary/1115382319?count=5'),\n",
    " (1437541866, u'https://democlass.com:443/styles/app.css'),\n",
    " (1437541889, u'https://democlass.com:443/summary/1115382319?count=4'),\n",
    " (1437545891, u'https://democlass.com:443/styles/app.css'),\n",
    " (1437545904, u'https://democlass.com:443/summary/1115382319?count=3'),\n",
    " (1437545905, u'https://democlass.com:443/styles/app.css'),\n",
    " (1437545918, u'https://democlass.com:443/summary/1115382319?count=2'),\n",
    " (1437545919, u'https://democlass.com:443/styles/app.css'),\n",
    " (1437545931, u'https://democlass.com:443/summary/1115382319?count=1'),\n",
    " (1437545933, u'https://democlass.com:443/styles/app.css'),\n",
    " (1437545939, u'https://democlass.com:443/settings'),\n",
    " (1437545974, u'https://democlass.com:443/logout'),\n",
    " (1437545974, u'https://democlass.com:443/'),\n",
    " (1437545980, u'https://democlass.com:443/settings'),\n",
    " (1437545984, u'https://democlass.com:443/login'),\n",
    " (1437545987, u'https://democlass.com:443/login')]\n",
    "\n",
    "bucketData(testdata2, sessionTime)"
   ]
  },
  {
   "cell_type": "code",
   "execution_count": 119,
   "metadata": {},
   "outputs": [
    {
     "data": {
      "text/plain": [
       "[[(1437541812, u'https://democlass.com:443/democlasscash')],\n",
       " [(1437545987, u'https://democlass.com:443/login')]]"
      ]
     },
     "execution_count": 119,
     "metadata": {},
     "output_type": "execute_result"
    }
   ],
   "source": [
    "# Test Case\n",
    "testdata3 = [(1437541812, u'https://democlass.com:443/democlasscash'),\n",
    " (1437545987, u'https://democlass.com:443/login')]\n",
    "\n",
    "bucketData(testdata3, sessionTime)"
   ]
  },
  {
   "cell_type": "code",
   "execution_count": 120,
   "metadata": {},
   "outputs": [
    {
     "data": {
      "text/plain": [
       "[[(1437541812, u'https://democlass.com:443/democlasscash')]]"
      ]
     },
     "execution_count": 120,
     "metadata": {},
     "output_type": "execute_result"
    }
   ],
   "source": [
    "# Test Case\n",
    "testdata4 = [(1437541812, u'https://democlass.com:443/democlasscash')]\n",
    "\n",
    "bucketData(testdata4, sessionTime)"
   ]
  },
  {
   "cell_type": "code",
   "execution_count": 121,
   "metadata": {},
   "outputs": [
    {
     "data": {
      "text/plain": [
       "[]"
      ]
     },
     "execution_count": 121,
     "metadata": {},
     "output_type": "execute_result"
    }
   ],
   "source": [
    "# Test Case\n",
    "bucketData([], sessionTime)"
   ]
  },
  {
   "cell_type": "code",
   "execution_count": 122,
   "metadata": {},
   "outputs": [],
   "source": [
    "stage4 = stage3.mapValues(lambda x: bucketData(x, sessionTime))"
   ]
  },
  {
   "cell_type": "code",
   "execution_count": 124,
   "metadata": {},
   "outputs": [
    {
     "data": {
      "text/plain": [
       "[(u'106.76.166.196',\n",
       "  [[(1437541812, u'https://democlass.com:443/democlasscash'),\n",
       "    (1437541842, u'https://democlass.com:443/democlasscash'),\n",
       "    (1437541843, u'https://democlass.com:443/checkout'),\n",
       "    (1437541847, u'https://democlass.com:443/checkout'),\n",
       "    (1437541853, u'https://democlass.com:443/summary/1115382319'),\n",
       "    (1437541865, u'https://democlass.com:443/summary/1115382319?count=5'),\n",
       "    (1437541866, u'https://democlass.com:443/styles/app.css'),\n",
       "    (1437541889, u'https://democlass.com:443/summary/1115382319?count=4'),\n",
       "    (1437541891, u'https://democlass.com:443/styles/app.css'),\n",
       "    (1437541904, u'https://democlass.com:443/summary/1115382319?count=3'),\n",
       "    (1437541905, u'https://democlass.com:443/styles/app.css'),\n",
       "    (1437541918, u'https://democlass.com:443/summary/1115382319?count=2'),\n",
       "    (1437541919, u'https://democlass.com:443/styles/app.css'),\n",
       "    (1437541931, u'https://democlass.com:443/summary/1115382319?count=1'),\n",
       "    (1437541933, u'https://democlass.com:443/styles/app.css'),\n",
       "    (1437541939, u'https://democlass.com:443/settings'),\n",
       "    (1437541974, u'https://democlass.com:443/logout'),\n",
       "    (1437541974, u'https://democlass.com:443/'),\n",
       "    (1437541980, u'https://democlass.com:443/settings'),\n",
       "    (1437541984, u'https://democlass.com:443/login'),\n",
       "    (1437541987, u'https://democlass.com:443/login')]]),\n",
       " (u'61.0.222.100',\n",
       "  [[(1437548128, u'https://democlass.com:443/'),\n",
       "    (1437548179, u'https://democlass.com:443/'),\n",
       "    (1437548251, u'https://democlass.com:443/'),\n",
       "    (1437548324, u'https://democlass.com:443/')]]),\n",
       " (u'14.98.92.61',\n",
       "  [[(1437561572, u'https://democlass.com:443/'),\n",
       "    (1437561582, u'https://democlass.com:443/shop/cart?channel=web&version=2'),\n",
       "    (1437561941,\n",
       "     u'https://democlass.com:443/shop/login?isIframe=true&theme=mp-web')]]),\n",
       " (u'203.38.135.36',\n",
       "  [[(1437555673, u'https://democlass.com:443/shop/cart?channel=web&version=2'),\n",
       "    (1437555684, u'https://democlass.com:443/favicon.ico')]]),\n",
       " (u'182.66.27.124',\n",
       "  [[(1437548275,\n",
       "     u'https://democlass.com:443/shop?utm_source=Affiliates&utm_medium=OMG&utm_campaign=OMG&utm_term=762154_')]]),\n",
       " (u'106.66.127.187',\n",
       "  [[(1437583259, u'https://democlass.com:443/shop/v1/frequentorders'),\n",
       "    (1437583262,\n",
       "     u'https://democlass.com:443/shop/authresponse?code=646ff6c1-6279-421f-b3fa-0ab90b58f190'),\n",
       "    (1437583263, u'https://democlass.com:443/shop/cart'),\n",
       "    (1437583267, u'https://democlass.com:443/shop/v1/frequentorders')]]),\n",
       " (u'49.204.42.220',\n",
       "  [[(1437532838, u'https://democlass.com:443/offer/bus-ticket-discount/'),\n",
       "    (1437532839, u'https://democlass.com:443/bus/promotion'),\n",
       "    (1437532839,\n",
       "     u'https://democlass.com:443/offer/wp-content/uploads/2015/03/google_badge_80.png'),\n",
       "    (1437532839,\n",
       "     u'https://democlass.com:443/offer/wp-content/uploads/2015/03/apple_badge_80.png'),\n",
       "    (1437532839,\n",
       "     u'https://democlass.com:443/offer/wp-content/uploads/2015/03/windows_badge_80.png'),\n",
       "    (1437532840, u'https://democlass.com:443/bus-tickets'),\n",
       "    (1437532840,\n",
       "     u'https://democlass.com:443/scripts/web/busTicketPromotion.js'),\n",
       "    (1437532840,\n",
       "     u'https://democlass.com:443/scripts/web/services/democlassService.js'),\n",
       "    (1437532840,\n",
       "     u'https://democlass.com:443/scripts/common/config/linkConfig.js'),\n",
       "    (1437532840,\n",
       "     u'https://democlass.com:443/scripts/web/angular-datepicker.js'),\n",
       "    (1437532840, u'https://democlass.com:443/scripts/web/config/UrlConfig.js'),\n",
       "    (1437532840,\n",
       "     u'https://democlass.com:443/scripts/web/config/resourceConfig.js'),\n",
       "    (1437532840,\n",
       "     u'https://democlass.com:443/scripts/common/config/ConstantsConfig.js'),\n",
       "    (1437532840,\n",
       "     u'https://democlass.com:443/scripts/web/busTicketPromotionCtrl.js'),\n",
       "    (1437532840, u'https://democlass.com:443/images/coupon-tik.png'),\n",
       "    (1437532845, u'https://democlass.com:443/images/transparent.gif'),\n",
       "    (1437532846, u'https://democlass.com:443/shop/cart?channel=web&version=2'),\n",
       "    (1437532846,\n",
       "     u'https://democlass.com:443/shop/ad/democlassAd?cat=bus1&democlass=new')]]),\n",
       " (u'125.63.73.247',\n",
       "  [[(1437561361, u'https://democlass.com:443/papi/v1/expresscart/verify'),\n",
       "    (1437561394,\n",
       "     u'https://democlass.com:443/shop/login?isIframe=true&theme=mp-web'),\n",
       "    (1437561444,\n",
       "     u'https://democlass.com:443/shop/authresponse?code=32915910-339f-45fe-8f60-3e83ce86b9f0&state=null'),\n",
       "    (1437561444,\n",
       "     u'https://democlass.com:443/shop/v1/frequentorders?channel=web&version=2'),\n",
       "    (1437561444, u'https://democlass.com:443/shop/cart?channel=web&version=2'),\n",
       "    (1437561444,\n",
       "     u'https://democlass.com:443/api/v1/expresscart/checkout?wallet=1'),\n",
       "    (1437561463, u'https://democlass.com:443/shop/summary/1116554982'),\n",
       "    (1437561464, u'https://democlass.com:443/shop/cart?channel=web&version=2'),\n",
       "    (1437561464,\n",
       "     u'https://democlass.com:443/shop/orderdetail/1116554982?channel=web&version=2'),\n",
       "    (1437561474,\n",
       "     u'https://democlass.com:443/shop/orderdetail/1116554982?channel=web&version=2'),\n",
       "    (1437561484,\n",
       "     u'https://democlass.com:443/shop/orderdetail/1116554982?channel=web&version=2'),\n",
       "    (1437561486, u'https://democlass.com:443/democlasswallet'),\n",
       "    (1437561486,\n",
       "     u'https://democlass.com:443/shop/cart?channel=web&version=2')]]),\n",
       " (u'27.97.102.67',\n",
       "  [[(1437586960, u'http://www.democlass.com:80/'),\n",
       "    (1437586992, u'https://democlass.com:443/styles/app.css'),\n",
       "    (1437587031, u'https://democlass.com:443/'),\n",
       "    (1437587036, u'https://democlass.com:443/login'),\n",
       "    (1437587086,\n",
       "     u'https://democlass.com:443/code?code=c7b31490-cd65-430c-8eee-5aa3faf396c0'),\n",
       "    (1437587095, u'https://democlass.com:443/checkout'),\n",
       "    (1437587100, u'https://democlass.com:443/styles/app.css'),\n",
       "    (1437587108, u'https://democlass.com:443/checkout')],\n",
       "   [(1437588180, u'https://democlass.com:443/verification'),\n",
       "    (1437588199, u'https://democlass.com:443/verification'),\n",
       "    (1437588234, u'https://democlass.com:443/verification'),\n",
       "    (1437588241, u'https://democlass.com:443/settings'),\n",
       "    (1437588300, u'https://democlass.com:443/verification'),\n",
       "    (1437588314, u'https://democlass.com:443/settings')]]),\n",
       " (u'42.99.164.95',\n",
       "  [[(1437548394,\n",
       "     u'https://democlass.com:443/shop/p/fever-stylish-denim-lycra-jeans-size-30-MJEANS00211614_1CIBL30'),\n",
       "    (1437548395,\n",
       "     u'https://democlass.com:443/shop/p/fever-stylish-denim-lycra-jeans-size-34-MJEANS00211614_2CILB34'),\n",
       "    (1437548397, u'https://democlass.com:443/shop/cart?channel=web&version=2'),\n",
       "    (1437548398, u'https://democlass.com:443/shop/cart?channel=web&version=2'),\n",
       "    (1437548398,\n",
       "     u'https://democlass.com:443/papi/nps/merchantrating?merchant_id=128&channel=web&version=2'),\n",
       "    (1437548398,\n",
       "     u'https://democlass.com:443/papi/v1/promosearch/product/1811671/offers?parent_id=1826386&price=1299&channel=web&version=2'),\n",
       "    (1437548399,\n",
       "     u'https://democlass.com:443/papi/rr/products/1811671/statistics?channel=web&version=2'),\n",
       "    (1437548399,\n",
       "     u'https://democlass.com:443/papi/v1/promosearch/product/1811682/offers?parent_id=1826388&price=1299&channel=web&version=2'),\n",
       "    (1437548399,\n",
       "     u'https://democlass.com:443/papi/nps/merchantrating?merchant_id=128&channel=web&version=2'),\n",
       "    (1437548399,\n",
       "     u'https://democlass.com:443/papi/rr/products/1811682/statistics?channel=web&version=2')],\n",
       "   [(1437561028,\n",
       "     u'https://democlass.com:443/api/v1/expresscart/checkout?wallet=1'),\n",
       "    (1437561100, u'https://democlass.com:443/shop/summary/1116533638'),\n",
       "    (1437561103, u'https://democlass.com:443/shop/cart?channel=web&version=2'),\n",
       "    (1437561104,\n",
       "     u'https://democlass.com:443/shop/orderdetail/1116533638?channel=web&version=2'),\n",
       "    (1437561104,\n",
       "     u'https://democlass.com:443/api/user/favourite?channel=web&version=2'),\n",
       "    (1437561277, u'http://www.democlass.com:80/'),\n",
       "    (1437561372,\n",
       "     u'https://democlass.com:443/shop/authresponse?code=f975edad-cade-4ab1-b612-a8e258ac01f0'),\n",
       "    (1437561373,\n",
       "     u'https://democlass.com:443/shop/v1/frequentorders?channel=web&version=2'),\n",
       "    (1437561373, u'https://democlass.com:443/shop/cart?channel=web&version=2'),\n",
       "    (1437561396, u'https://democlass.com:443/papi/v1/expresscart/verify'),\n",
       "    (1437561523, u'https://democlass.com:443/papi/v1/expresscart/verify')],\n",
       "   [(1437562158,\n",
       "     u'https://democlass.com:443/papi/v1/promosearch/product/16660053/offers?parent_id=13476872&price=2499&channel=web&version=2'),\n",
       "    (1437562847,\n",
       "     u'https://democlass.com:443/papi/v1/promosearch/product/12187386/offers?parent_id=12187409&price=4299&channel=web&version=2'),\n",
       "    (1437562854,\n",
       "     u'https://democlass.com:443/papi/nps/merchantrating?merchant_id=22152&channel=web&version=2'),\n",
       "    (1437562855,\n",
       "     u'https://democlass.com:443/papi/nps/merchantrating?merchant_id=22152&channel=web&version=2'),\n",
       "    (1437562860,\n",
       "     u'https://democlass.com:443/papi/nps/merchantrating?merchant_id=22152&channel=web&version=2'),\n",
       "    (1437562868,\n",
       "     u'https://democlass.com:443/papi/nps/merchantrating?merchant_id=22152&channel=web&version=2'),\n",
       "    (1437562919,\n",
       "     u'https://democlass.com:443/papi/nps/merchantrating?merchant_id=20344&channel=web&version=2'),\n",
       "    (1437562925,\n",
       "     u'https://democlass.com:443/papi/v1/promosearch/product/7512501/offers?parent_id=7512919&price=2799&channel=web&version=2')]])]"
      ]
     },
     "execution_count": 124,
     "metadata": {},
     "output_type": "execute_result"
    }
   ],
   "source": [
    "# in case you want to see more results, you can call take on the \n",
    "# rdd\n",
    "stage4.take(10)"
   ]
  },
  {
   "cell_type": "code",
   "execution_count": 142,
   "metadata": {},
   "outputs": [
    {
     "data": {
      "text/plain": [
       "[(u'106.76.166.196', [175]),\n",
       " (u'61.0.222.100', [196]),\n",
       " (u'14.98.92.61', [369]),\n",
       " (u'203.38.135.36', [11]),\n",
       " (u'182.66.27.124', [0]),\n",
       " (u'106.66.127.187', [8]),\n",
       " (u'49.204.42.220', [8]),\n",
       " (u'125.63.73.247', [125]),\n",
       " (u'27.97.102.67', [148, 134]),\n",
       " (u'42.99.164.95', [5, 495, 767])]"
      ]
     },
     "execution_count": 142,
     "metadata": {},
     "output_type": "execute_result"
    }
   ],
   "source": [
    "# Now let's calculate average session time\n",
    "def calculateSession(data):\n",
    "    return map(lambda x: x[-1][0] - x[0][0] ,data)\n",
    "\n",
    "#stage4.first()\n",
    "stage4.mapValues(lambda x: calculateSession(x)).take(10)"
   ]
  },
  {
   "cell_type": "code",
   "execution_count": 144,
   "metadata": {},
   "outputs": [
    {
     "data": {
      "text/plain": [
       "[(u'106.76.166.196', 175),\n",
       " (u'61.0.222.100', 196),\n",
       " (u'14.98.92.61', 369),\n",
       " (u'203.38.135.36', 11),\n",
       " (u'182.66.27.124', 0),\n",
       " (u'106.66.127.187', 8),\n",
       " (u'49.204.42.220', 8),\n",
       " (u'125.63.73.247', 125),\n",
       " (u'27.97.102.67', 141),\n",
       " (u'42.99.164.95', 422)]"
      ]
     },
     "execution_count": 144,
     "metadata": {},
     "output_type": "execute_result"
    }
   ],
   "source": [
    "# now let's get the average for \n",
    "stage4.mapValues(lambda x: calculateSession(x)).mapValues(lambda y: sum(y) / len(y)).take(10)"
   ]
  },
  {
   "cell_type": "code",
   "execution_count": 146,
   "metadata": {},
   "outputs": [
    {
     "data": {
      "text/plain": [
       "(u'106.76.166.196',\n",
       " [[(1437541812, u'https://democlass.com:443/democlasscash'),\n",
       "   (1437541842, u'https://democlass.com:443/democlasscash'),\n",
       "   (1437541843, u'https://democlass.com:443/checkout'),\n",
       "   (1437541847, u'https://democlass.com:443/checkout'),\n",
       "   (1437541853, u'https://democlass.com:443/summary/1115382319'),\n",
       "   (1437541865, u'https://democlass.com:443/summary/1115382319?count=5'),\n",
       "   (1437541866, u'https://democlass.com:443/styles/app.css'),\n",
       "   (1437541889, u'https://democlass.com:443/summary/1115382319?count=4'),\n",
       "   (1437541891, u'https://democlass.com:443/styles/app.css'),\n",
       "   (1437541904, u'https://democlass.com:443/summary/1115382319?count=3'),\n",
       "   (1437541905, u'https://democlass.com:443/styles/app.css'),\n",
       "   (1437541918, u'https://democlass.com:443/summary/1115382319?count=2'),\n",
       "   (1437541919, u'https://democlass.com:443/styles/app.css'),\n",
       "   (1437541931, u'https://democlass.com:443/summary/1115382319?count=1'),\n",
       "   (1437541933, u'https://democlass.com:443/styles/app.css'),\n",
       "   (1437541939, u'https://democlass.com:443/settings'),\n",
       "   (1437541974, u'https://democlass.com:443/logout'),\n",
       "   (1437541974, u'https://democlass.com:443/'),\n",
       "   (1437541980, u'https://democlass.com:443/settings'),\n",
       "   (1437541984, u'https://democlass.com:443/login'),\n",
       "   (1437541987, u'https://democlass.com:443/login')]])"
      ]
     },
     "execution_count": 146,
     "metadata": {},
     "output_type": "execute_result"
    }
   ],
   "source": [
    "# Awesome, now let's move on to the uniq url per session\n",
    "stage4.first()"
   ]
  },
  {
   "cell_type": "code",
   "execution_count": 181,
   "metadata": {},
   "outputs": [
    {
     "data": {
      "text/plain": [
       "(u'106.76.166.196',\n",
       " [[(u'https://democlass.com:443/democlasscash', 2),\n",
       "   (u'https://democlass.com:443/checkout', 2),\n",
       "   (u'https://democlass.com:443/summary/1115382319', 1),\n",
       "   (u'https://democlass.com:443/summary/1115382319?count=5', 1),\n",
       "   (u'https://democlass.com:443/styles/app.css', 1),\n",
       "   (u'https://democlass.com:443/summary/1115382319?count=4', 1),\n",
       "   (u'https://democlass.com:443/styles/app.css', 1),\n",
       "   (u'https://democlass.com:443/summary/1115382319?count=3', 1),\n",
       "   (u'https://democlass.com:443/styles/app.css', 1),\n",
       "   (u'https://democlass.com:443/summary/1115382319?count=2', 1),\n",
       "   (u'https://democlass.com:443/styles/app.css', 1),\n",
       "   (u'https://democlass.com:443/summary/1115382319?count=1', 1),\n",
       "   (u'https://democlass.com:443/styles/app.css', 1),\n",
       "   (u'https://democlass.com:443/settings', 1),\n",
       "   (u'https://democlass.com:443/logout', 1),\n",
       "   (u'https://democlass.com:443/', 1),\n",
       "   (u'https://democlass.com:443/settings', 1),\n",
       "   (u'https://democlass.com:443/login', 2)]])"
      ]
     },
     "execution_count": 181,
     "metadata": {},
     "output_type": "execute_result"
    }
   ],
   "source": [
    "from itertools import groupby\n",
    "\n",
    "def gb(data):\n",
    "  #  return data\n",
    "    result = []\n",
    "    for k, g in groupby(data):\n",
    "        result.append((k, len(list(g)))) \n",
    "    return result\n",
    "\n",
    "def calculateUniqUrl(data):\n",
    "    input = map(lambda x: map(lambda y: y[1], x), data)\n",
    "    s1 = map(lambda x: gb(x), input)\n",
    "    return s1\n",
    "\n",
    "    \n",
    "stage4.mapValues(lambda x: calculateUniqUrl(x)).first()"
   ]
  },
  {
   "cell_type": "code",
   "execution_count": 182,
   "metadata": {},
   "outputs": [
    {
     "data": {
      "text/plain": [
       "[(u'106.76.166.196',\n",
       "  [[(u'https://democlass.com:443/democlasscash', 2),\n",
       "    (u'https://democlass.com:443/checkout', 2),\n",
       "    (u'https://democlass.com:443/summary/1115382319', 1),\n",
       "    (u'https://democlass.com:443/summary/1115382319?count=5', 1),\n",
       "    (u'https://democlass.com:443/styles/app.css', 1),\n",
       "    (u'https://democlass.com:443/summary/1115382319?count=4', 1),\n",
       "    (u'https://democlass.com:443/styles/app.css', 1),\n",
       "    (u'https://democlass.com:443/summary/1115382319?count=3', 1),\n",
       "    (u'https://democlass.com:443/styles/app.css', 1),\n",
       "    (u'https://democlass.com:443/summary/1115382319?count=2', 1),\n",
       "    (u'https://democlass.com:443/styles/app.css', 1),\n",
       "    (u'https://democlass.com:443/summary/1115382319?count=1', 1),\n",
       "    (u'https://democlass.com:443/styles/app.css', 1),\n",
       "    (u'https://democlass.com:443/settings', 1),\n",
       "    (u'https://democlass.com:443/logout', 1),\n",
       "    (u'https://democlass.com:443/', 1),\n",
       "    (u'https://democlass.com:443/settings', 1),\n",
       "    (u'https://democlass.com:443/login', 2)]]),\n",
       " (u'61.0.222.100', [[(u'https://democlass.com:443/', 4)]]),\n",
       " (u'14.98.92.61',\n",
       "  [[(u'https://democlass.com:443/', 1),\n",
       "    (u'https://democlass.com:443/shop/cart?channel=web&version=2', 1),\n",
       "    (u'https://democlass.com:443/shop/login?isIframe=true&theme=mp-web', 1)]]),\n",
       " (u'203.38.135.36',\n",
       "  [[(u'https://democlass.com:443/shop/cart?channel=web&version=2', 1),\n",
       "    (u'https://democlass.com:443/favicon.ico', 1)]]),\n",
       " (u'182.66.27.124',\n",
       "  [[(u'https://democlass.com:443/shop?utm_source=Affiliates&utm_medium=OMG&utm_campaign=OMG&utm_term=762154_',\n",
       "     1)]]),\n",
       " (u'106.66.127.187',\n",
       "  [[(u'https://democlass.com:443/shop/v1/frequentorders', 1),\n",
       "    (u'https://democlass.com:443/shop/authresponse?code=646ff6c1-6279-421f-b3fa-0ab90b58f190',\n",
       "     1),\n",
       "    (u'https://democlass.com:443/shop/cart', 1),\n",
       "    (u'https://democlass.com:443/shop/v1/frequentorders', 1)]]),\n",
       " (u'49.204.42.220',\n",
       "  [[(u'https://democlass.com:443/offer/bus-ticket-discount/', 1),\n",
       "    (u'https://democlass.com:443/bus/promotion', 1),\n",
       "    (u'https://democlass.com:443/offer/wp-content/uploads/2015/03/google_badge_80.png',\n",
       "     1),\n",
       "    (u'https://democlass.com:443/offer/wp-content/uploads/2015/03/apple_badge_80.png',\n",
       "     1),\n",
       "    (u'https://democlass.com:443/offer/wp-content/uploads/2015/03/windows_badge_80.png',\n",
       "     1),\n",
       "    (u'https://democlass.com:443/bus-tickets', 1),\n",
       "    (u'https://democlass.com:443/scripts/web/busTicketPromotion.js', 1),\n",
       "    (u'https://democlass.com:443/scripts/web/services/democlassService.js', 1),\n",
       "    (u'https://democlass.com:443/scripts/common/config/linkConfig.js', 1),\n",
       "    (u'https://democlass.com:443/scripts/web/angular-datepicker.js', 1),\n",
       "    (u'https://democlass.com:443/scripts/web/config/UrlConfig.js', 1),\n",
       "    (u'https://democlass.com:443/scripts/web/config/resourceConfig.js', 1),\n",
       "    (u'https://democlass.com:443/scripts/common/config/ConstantsConfig.js', 1),\n",
       "    (u'https://democlass.com:443/scripts/web/busTicketPromotionCtrl.js', 1),\n",
       "    (u'https://democlass.com:443/images/coupon-tik.png', 1),\n",
       "    (u'https://democlass.com:443/images/transparent.gif', 1),\n",
       "    (u'https://democlass.com:443/shop/cart?channel=web&version=2', 1),\n",
       "    (u'https://democlass.com:443/shop/ad/democlassAd?cat=bus1&democlass=new',\n",
       "     1)]]),\n",
       " (u'125.63.73.247',\n",
       "  [[(u'https://democlass.com:443/papi/v1/expresscart/verify', 1),\n",
       "    (u'https://democlass.com:443/shop/login?isIframe=true&theme=mp-web', 1),\n",
       "    (u'https://democlass.com:443/shop/authresponse?code=32915910-339f-45fe-8f60-3e83ce86b9f0&state=null',\n",
       "     1),\n",
       "    (u'https://democlass.com:443/shop/v1/frequentorders?channel=web&version=2',\n",
       "     1),\n",
       "    (u'https://democlass.com:443/shop/cart?channel=web&version=2', 1),\n",
       "    (u'https://democlass.com:443/api/v1/expresscart/checkout?wallet=1', 1),\n",
       "    (u'https://democlass.com:443/shop/summary/1116554982', 1),\n",
       "    (u'https://democlass.com:443/shop/cart?channel=web&version=2', 1),\n",
       "    (u'https://democlass.com:443/shop/orderdetail/1116554982?channel=web&version=2',\n",
       "     3),\n",
       "    (u'https://democlass.com:443/democlasswallet', 1),\n",
       "    (u'https://democlass.com:443/shop/cart?channel=web&version=2', 1)]]),\n",
       " (u'27.97.102.67',\n",
       "  [[(u'http://www.democlass.com:80/', 1),\n",
       "    (u'https://democlass.com:443/styles/app.css', 1),\n",
       "    (u'https://democlass.com:443/', 1),\n",
       "    (u'https://democlass.com:443/login', 1),\n",
       "    (u'https://democlass.com:443/code?code=c7b31490-cd65-430c-8eee-5aa3faf396c0',\n",
       "     1),\n",
       "    (u'https://democlass.com:443/checkout', 1),\n",
       "    (u'https://democlass.com:443/styles/app.css', 1),\n",
       "    (u'https://democlass.com:443/checkout', 1)],\n",
       "   [(u'https://democlass.com:443/verification', 3),\n",
       "    (u'https://democlass.com:443/settings', 1),\n",
       "    (u'https://democlass.com:443/verification', 1),\n",
       "    (u'https://democlass.com:443/settings', 1)]]),\n",
       " (u'42.99.164.95',\n",
       "  [[(u'https://democlass.com:443/shop/p/fever-stylish-denim-lycra-jeans-size-30-MJEANS00211614_1CIBL30',\n",
       "     1),\n",
       "    (u'https://democlass.com:443/shop/p/fever-stylish-denim-lycra-jeans-size-34-MJEANS00211614_2CILB34',\n",
       "     1),\n",
       "    (u'https://democlass.com:443/shop/cart?channel=web&version=2', 2),\n",
       "    (u'https://democlass.com:443/papi/nps/merchantrating?merchant_id=128&channel=web&version=2',\n",
       "     1),\n",
       "    (u'https://democlass.com:443/papi/v1/promosearch/product/1811671/offers?parent_id=1826386&price=1299&channel=web&version=2',\n",
       "     1),\n",
       "    (u'https://democlass.com:443/papi/rr/products/1811671/statistics?channel=web&version=2',\n",
       "     1),\n",
       "    (u'https://democlass.com:443/papi/v1/promosearch/product/1811682/offers?parent_id=1826388&price=1299&channel=web&version=2',\n",
       "     1),\n",
       "    (u'https://democlass.com:443/papi/nps/merchantrating?merchant_id=128&channel=web&version=2',\n",
       "     1),\n",
       "    (u'https://democlass.com:443/papi/rr/products/1811682/statistics?channel=web&version=2',\n",
       "     1)],\n",
       "   [(u'https://democlass.com:443/api/v1/expresscart/checkout?wallet=1', 1),\n",
       "    (u'https://democlass.com:443/shop/summary/1116533638', 1),\n",
       "    (u'https://democlass.com:443/shop/cart?channel=web&version=2', 1),\n",
       "    (u'https://democlass.com:443/shop/orderdetail/1116533638?channel=web&version=2',\n",
       "     1),\n",
       "    (u'https://democlass.com:443/api/user/favourite?channel=web&version=2', 1),\n",
       "    (u'http://www.democlass.com:80/', 1),\n",
       "    (u'https://democlass.com:443/shop/authresponse?code=f975edad-cade-4ab1-b612-a8e258ac01f0',\n",
       "     1),\n",
       "    (u'https://democlass.com:443/shop/v1/frequentorders?channel=web&version=2',\n",
       "     1),\n",
       "    (u'https://democlass.com:443/shop/cart?channel=web&version=2', 1),\n",
       "    (u'https://democlass.com:443/papi/v1/expresscart/verify', 2)],\n",
       "   [(u'https://democlass.com:443/papi/v1/promosearch/product/16660053/offers?parent_id=13476872&price=2499&channel=web&version=2',\n",
       "     1),\n",
       "    (u'https://democlass.com:443/papi/v1/promosearch/product/12187386/offers?parent_id=12187409&price=4299&channel=web&version=2',\n",
       "     1),\n",
       "    (u'https://democlass.com:443/papi/nps/merchantrating?merchant_id=22152&channel=web&version=2',\n",
       "     4),\n",
       "    (u'https://democlass.com:443/papi/nps/merchantrating?merchant_id=20344&channel=web&version=2',\n",
       "     1),\n",
       "    (u'https://democlass.com:443/papi/v1/promosearch/product/7512501/offers?parent_id=7512919&price=2799&channel=web&version=2',\n",
       "     1)]])]"
      ]
     },
     "execution_count": 182,
     "metadata": {},
     "output_type": "execute_result"
    }
   ],
   "source": [
    "stage4.mapValues(lambda x: calculateUniqUrl(x)).take(10)"
   ]
  },
  {
   "cell_type": "code",
   "execution_count": 154,
   "metadata": {},
   "outputs": [],
   "source": []
  },
  {
   "cell_type": "code",
   "execution_count": null,
   "metadata": {},
   "outputs": [],
   "source": []
  }
 ],
 "metadata": {
  "kernelspec": {
   "display_name": "Python 2",
   "language": "python",
   "name": "python2"
  },
  "language_info": {
   "codemirror_mode": {
    "name": "ipython",
    "version": 2
   },
   "file_extension": ".py",
   "mimetype": "text/x-python",
   "name": "python",
   "nbconvert_exporter": "python",
   "pygments_lexer": "ipython2",
   "version": "2.7.14"
  }
 },
 "nbformat": 4,
 "nbformat_minor": 2
}
